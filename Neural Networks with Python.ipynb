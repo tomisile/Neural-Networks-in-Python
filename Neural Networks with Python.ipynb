{
 "cells": [
  {
   "cell_type": "markdown",
   "id": "2c25f25b",
   "metadata": {},
   "source": [
    "## Import libraries"
   ]
  },
  {
   "cell_type": "code",
   "execution_count": 1,
   "id": "904ba78c",
   "metadata": {},
   "outputs": [],
   "source": [
    "import numpy as np\n",
    "from matplotlib import pyplot as plt"
   ]
  },
  {
   "cell_type": "markdown",
   "id": "64202508",
   "metadata": {},
   "source": [
    "## Initialize the weights and bias parameters"
   ]
  },
  {
   "cell_type": "code",
   "execution_count": 2,
   "id": "481309e5",
   "metadata": {},
   "outputs": [],
   "source": [
    "def init_params(layer_dims):\n",
    "    '''this function takes in the dimensions of the layers as input, and initializes\n",
    "    the weights W and bias b using the layer dimensions'''\n",
    "\n",
    "    \n",
    "    # The seed() method is used to initialize the random number generator.\n",
    "    # The random number generator needs a number to start with (a seed value), to be able to generate a random number.\n",
    "    # We used the random.seed function so that we can get the same random values whenever the script is executed\n",
    "    np.random.seed(3)\n",
    "    \n",
    "    # store the values of the parameters in the params dictionary\n",
    "    params = {}\n",
    "    \n",
    "    L = len(layer_dims)\n",
    "    \n",
    "    # iterate through the length of the layer dimension and define parameters \n",
    "    for l in range(1, L):\n",
    "        # W - weight matrix, b- bias vector\n",
    "        params['W'+str(l)] = np.random.randn(layer_dims[l], layer_dims[l-1])*0.01\n",
    "        params['b'+str(l)] = np.zeros((layer_dims[l], 1))\n",
    "        \n",
    "    return params"
   ]
  },
  {
   "cell_type": "markdown",
   "id": "c6764598",
   "metadata": {},
   "source": [
    "## Implement forward propagation"
   ]
  },
  {
   "cell_type": "markdown",
   "id": "21d7a70b",
   "metadata": {},
   "source": [
    "To compute forward propagation, we need to define the sigmoid function"
   ]
  },
  {
   "cell_type": "code",
   "execution_count": 3,
   "id": "710dd1ab",
   "metadata": {},
   "outputs": [],
   "source": [
    "def sigmoid(Z):\n",
    "    # A = g(Z) where A is the activation function\n",
    "    A = 1/(1+np.exp(np.dot(-1, Z))) # or 1/(1+np.exp(-Z))\n",
    "    \n",
    "    #store cache values for backpropagation\n",
    "    cache = (Z)\n",
    "    \n",
    "    return A, cache"
   ]
  },
  {
   "cell_type": "markdown",
   "id": "b672bd48",
   "metadata": {},
   "source": [
    "Now implement forward propagation to compute activation values"
   ]
  },
  {
   "cell_type": "code",
   "execution_count": 4,
   "id": "7dd01a36",
   "metadata": {},
   "outputs": [],
   "source": [
    "def forward_prop(X, params):\n",
    "    '''this function takes in the training data and parameters as inputs and will\n",
    "    generate output for one layer, it will then feed that output as input into the \n",
    "    next layer and so on'''\n",
    "    \n",
    "    A = X # training data\n",
    "    \n",
    "    # store cache for backpropagation\n",
    "    caches = []\n",
    "    L = len(params)//2\n",
    "    \n",
    "    # iterate through all the layers of the network\n",
    "    for l in range(1, L+1):\n",
    "        A_prev = A # A_prev is the input to the first layer\n",
    "        \n",
    "        # Linear Hypothesis\n",
    "        Z = np.dot(params['W'+str(l)], A_prev) + params['b'+str(l)]\n",
    "        \n",
    "        # Storing the linear cache\n",
    "        linear_cache = (A_prev, params['W'+str(l)], params['b'+str(l)]) \n",
    "        \n",
    "        # Applying sigmoid on linear hypothesis\n",
    "        A, activation_cache = sigmoid(Z) \n",
    "        \n",
    "         # storing the both linear and activation cache\n",
    "        cache = (linear_cache, activation_cache)\n",
    "        caches.append(cache)\n",
    "    \n",
    "    return A, caches"
   ]
  },
  {
   "attachments": {},
   "cell_type": "markdown",
   "id": "c8367c33",
   "metadata": {},
   "source": [
    "## Compute Cost Function J(θ)"
   ]
  },
  {
   "cell_type": "code",
   "execution_count": 5,
   "id": "e06bff8a",
   "metadata": {},
   "outputs": [],
   "source": [
    "def cost_function(A, Y):\n",
    "    m = Y.shape[1]\n",
    "    \n",
    "    cost = (-1/m)*(np.dot(np.log(A), Y.T) + np.dot(log(1-A), 1-Y.T)) \n",
    "    \n",
    "    return cost"
   ]
  },
  {
   "attachments": {},
   "cell_type": "markdown",
   "id": "c9586e57",
   "metadata": {},
   "source": [
    "## Implement backpropagation to compute partial derivative of the cost function"
   ]
  },
  {
   "cell_type": "code",
   "execution_count": 6,
   "id": "c45765f7",
   "metadata": {},
   "outputs": [],
   "source": [
    "def one_layer_backward(dA, cache):\n",
    "    '''this function runs backpropagation for one single layer'''\n",
    "    \n",
    "    linear_cache, activation_cache = cache\n",
    "    \n",
    "    Z = activation_cache\n",
    "    # compute dZ which is the derivative of cost function wrt linear output\n",
    "    # or simply put, the derivative of sigmoid function\n",
    "    dZ = dA*sigmoid(Z)*(1-sigmoid(Z))\n",
    "    \n",
    "    A_prev, W, b = linear_cache\n",
    "    m = A_prev.shape[1]\n",
    "    \n",
    "    # compute dW, db and dA_prev, which are the derivatives of cost function\n",
    "    # wrt weights, bias and previous activation function respectively.\n",
    "    dW = (1/m)*np.dot(dZ, A_prev.T)\n",
    "    db = (1/m)*np.sum(dZ, axis=1, keepdims=True)\n",
    "    dA_prev = np.dot(W.T, dZ)\n",
    "    \n",
    "    return dA_prev, dW, db"
   ]
  },
  {
   "attachments": {},
   "cell_type": "markdown",
   "id": "6814e2e3",
   "metadata": {},
   "source": [
    "## Use gradient descent with backpropagation to minimize J(θ)"
   ]
  },
  {
   "cell_type": "code",
   "execution_count": 7,
   "id": "56033d6d",
   "metadata": {},
   "outputs": [],
   "source": [
    "def backprop(AL, Y, caches):\n",
    "    '''this function implements backpropagation for the entire neural network\n",
    "    and computes the gradient'''\n",
    "    \n",
    "    # store the value of the gradients in the grads dictionary\n",
    "    grads = {} \n",
    "    \n",
    "    L = len(caches)\n",
    "    m = AL.shape[1]\n",
    "    Y = Y.reshape(AL.shape)\n",
    "    \n",
    "    dAL = -(np.divide(Y, AL) - np.divide(1-Y, 1-AL))\n",
    "    \n",
    "    current_cache = caches[L-1]\n",
    "    grads['dA'+str(L-1)], grads['dW'+str(L-1)], grads['db'+str(L-1)] = one_layer_backward(dAL, current_cache)\n",
    "    \n",
    "    for l in reversed(range(L-1)):\n",
    "        \n",
    "        current_cache = caches[l]\n",
    "        dA_prev_temp, dW_temp, db_temp = one_layer_backward(grads[\"dA\" + str(l+1)], current_cache)\n",
    "        grads[\"dA\" + str(l)] = dA_prev_temp\n",
    "        grads[\"dW\" + str(l + 1)] = dW_temp\n",
    "        grads[\"db\" + str(l + 1)] = db_temp\n",
    "        \n",
    "    return grads"
   ]
  },
  {
   "cell_type": "markdown",
   "id": "05d110df",
   "metadata": {},
   "source": [
    "Implement gradient descent by updating the parameters "
   ]
  },
  {
   "cell_type": "code",
   "execution_count": 8,
   "id": "24f650f6",
   "metadata": {},
   "outputs": [],
   "source": [
    "def update_parameters(parameters, grads, learning_rate):\n",
    "    L = len(parameters) // 2\n",
    "    \n",
    "    # iterate through all the layers and update the parameters\n",
    "    for l in range(L):\n",
    "        parameters['W'+str(l+1)] = parameters['W'+str(l+1)] - learning_rate*grads['W'+str(l+1)]\n",
    "        parameters['b'+str(l+1)] = parameters['b'+str(l+1)] - learning_rate*grads['b'+str(l+1)]\n",
    "        \n",
    "    return parameters"
   ]
  },
  {
   "cell_type": "markdown",
   "id": "8aee9126",
   "metadata": {},
   "source": [
    "## Create model training function"
   ]
  },
  {
   "cell_type": "code",
   "execution_count": 9,
   "id": "c5adfbea",
   "metadata": {},
   "outputs": [],
   "source": [
    "def train(X, Y, layer_dims, epochs, lr):\n",
    "    '''this function takes in X(training data), Y(test data), layer_dims(number of layers), \n",
    "    epochs(integer number of times to look at the data) and lr(learning rate alpha) as inputs'''\n",
    "    \n",
    "    params = init_params(layer_dims)\n",
    "    cost_history = []\n",
    "    \n",
    "    # iterate through the number of epochs\n",
    "    for i in range(epochs):\n",
    "        Y_hat, caches = forward_prop(X, params)\n",
    "        cost = cost_function(Y_hat, Y)\n",
    "        cost_history.append(cost)\n",
    "        grads = backprop(Y_hat, Y, caches)\n",
    "        \n",
    "        params = update_parameters(params, grads, lr)\n",
    "        \n",
    "    return params, cost_history"
   ]
  },
  {
   "cell_type": "code",
   "execution_count": null,
   "id": "30fd09ee",
   "metadata": {},
   "outputs": [],
   "source": []
  }
 ],
 "metadata": {
  "kernelspec": {
   "display_name": "Python 3",
   "language": "python",
   "name": "python3"
  },
  "language_info": {
   "codemirror_mode": {
    "name": "ipython",
    "version": 3
   },
   "file_extension": ".py",
   "mimetype": "text/x-python",
   "name": "python",
   "nbconvert_exporter": "python",
   "pygments_lexer": "ipython3",
   "version": "3.7.11"
  }
 },
 "nbformat": 4,
 "nbformat_minor": 5
}
